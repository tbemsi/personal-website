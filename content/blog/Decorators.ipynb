{
 "cells": [
  {
   "cell_type": "markdown",
   "id": "03fb76cf",
   "metadata": {},
   "source": [
    "# A primer on decorators in python"
   ]
  },
  {
   "cell_type": "markdown",
   "id": "69c45093",
   "metadata": {},
   "source": [
    "## 0. Some background on functions in python\n",
    "A function in python (or any other language) returns a value based on the input arguments."
   ]
  },
  {
   "cell_type": "code",
   "execution_count": null,
   "id": "73212616",
   "metadata": {},
   "outputs": [],
   "source": [
    "def add_one(a: int) -> float:\n",
    "    return a + 1\n",
    "\n",
    "add_one(15)"
   ]
  },
  {
   "cell_type": "markdown",
   "id": "224505c7",
   "metadata": {},
   "source": [
    "Sometimes they return nothing, and just perform some action. For example, the `print` function just logs stuff to the console, but returns nothing. For the purposes of this tutorial, we will focus on functions that return outputs.\n",
    "\n",
    "Functions are also objects, and can be passed in as arguments into other functions"
   ]
  },
  {
   "cell_type": "code",
   "execution_count": null,
   "id": "f8e82a7e",
   "metadata": {},
   "outputs": [],
   "source": [
    "def operate(func, x):\n",
    "    result = func(x)\n",
    "    return result\n",
    "\n",
    "operate(add_one, 5)"
   ]
  },
  {
   "cell_type": "markdown",
   "id": "91d62db0",
   "metadata": {},
   "source": [
    "Functions can also be returned from other functions. In the cell below, we can see that the function `is_returned` is returned from the `is_called` function. You can see the difference with `sth` and `sth()`"
   ]
  },
  {
   "cell_type": "code",
   "execution_count": null,
   "id": "0c3950a1",
   "metadata": {},
   "outputs": [],
   "source": [
    "def is_called():\n",
    "    def is_returned():\n",
    "        print('Hi')\n",
    "    return is_returned\n",
    "\n",
    "sth = is_called()\n",
    "print(sth)\n",
    "sth()"
   ]
  },
  {
   "cell_type": "markdown",
   "id": "6b3698ba",
   "metadata": {},
   "source": [
    "## 1. What is a decorator?\n",
    "A decorator is a \"wrapper\" for a function. It takes in a function, adds some functionality to it, and then returns the a modified version of the function. We will see a few examples of decorators in the next few cells"
   ]
  },
  {
   "cell_type": "code",
   "execution_count": null,
   "id": "68bc2a4b",
   "metadata": {},
   "outputs": [],
   "source": [
    "def make_pretty(func):\n",
    "    def inner():\n",
    "        print(\"I got decorated\")\n",
    "        func()\n",
    "    return inner\n",
    "\n",
    "\n",
    "def ordinary():\n",
    "    print(\"I am ordinary\")"
   ]
  },
  {
   "cell_type": "code",
   "execution_count": null,
   "id": "ee92679a",
   "metadata": {},
   "outputs": [],
   "source": [
    "ordinary()"
   ]
  },
  {
   "cell_type": "code",
   "execution_count": null,
   "id": "c0d8184e",
   "metadata": {},
   "outputs": [],
   "source": [
    "pretty = make_pretty(ordinary)\n",
    "pretty()"
   ]
  },
  {
   "cell_type": "markdown",
   "id": "95df0054",
   "metadata": {},
   "source": [
    "We see that the `make_pretty` function added some functionality to the `ordinary` function. `make_pretty` is a **decorator**, and it decorates the `ordinary` function. Notice that the nature of the `ordinary` function does not change - it is merely extended. We can use the `@` symbol along with the name of the decorator function and place it above the definition of the function to be decorated. For example:"
   ]
  },
  {
   "cell_type": "code",
   "execution_count": null,
   "id": "368b5d8e",
   "metadata": {},
   "outputs": [],
   "source": [
    "@make_pretty\n",
    "def ordinary():\n",
    "    print(\"I am ordinary\")"
   ]
  },
  {
   "cell_type": "code",
   "execution_count": null,
   "id": "4787e0b3",
   "metadata": {},
   "outputs": [],
   "source": [
    "ordinary()"
   ]
  },
  {
   "cell_type": "markdown",
   "id": "445d9a96",
   "metadata": {},
   "source": [
    "This is the same thing as `ordinary = make_pretty(ordinary)`. The `@` symbol here is just [**syntactic sugar**](https://en.wikipedia.org/wiki/Syntactic_sugar) to implement decorators. \n",
    "\n",
    "We will see a few examples of simple decorators"
   ]
  },
  {
   "cell_type": "code",
   "execution_count": null,
   "id": "2049bce4",
   "metadata": {},
   "outputs": [],
   "source": [
    "def do_twice(func):\n",
    "    \"\"\" Will perform the function twice\"\"\"\n",
    "    def inner():\n",
    "        func()\n",
    "        func()\n",
    "    return inner\n",
    "\n",
    "def say_hello():\n",
    "    print('Hello!!!!')\n",
    "    \n",
    "greeting = do_twice(say_hello)\n",
    "greeting()"
   ]
  },
  {
   "cell_type": "markdown",
   "id": "824c6c6f",
   "metadata": {},
   "source": [
    "Now let's use the decorator properly:"
   ]
  },
  {
   "cell_type": "code",
   "execution_count": null,
   "id": "bbd107e8",
   "metadata": {},
   "outputs": [],
   "source": [
    "@do_twice\n",
    "def say_hello():\n",
    "    print('Hello!!!!')\n",
    "    \n",
    "say_hello()"
   ]
  },
  {
   "cell_type": "markdown",
   "id": "88043fae",
   "metadata": {},
   "source": [
    "Now let's try to pass an argument to the `greet_me` function and see what happens"
   ]
  },
  {
   "cell_type": "code",
   "execution_count": null,
   "id": "f9dafbf0",
   "metadata": {},
   "outputs": [],
   "source": [
    "@do_twice\n",
    "def greet_me(name):\n",
    "    print(f'Hi {name}, happy to meet you today')\n",
    "\n",
    "greet_me('Joel')"
   ]
  },
  {
   "cell_type": "markdown",
   "id": "945fe9aa",
   "metadata": {},
   "source": [
    "We get an error because the `inner` function doesn't take any arguments. To fix this, we include positional and keyword arguments in the definition of the `inner` function as such:"
   ]
  },
  {
   "cell_type": "code",
   "execution_count": null,
   "id": "edb47b52",
   "metadata": {},
   "outputs": [],
   "source": [
    "def do_twice(func):\n",
    "    def inner(*args, **kwargs):\n",
    "        func(*args, **kwargs)\n",
    "        func(*args, **kwargs)\n",
    "    return inner\n",
    "\n",
    "@do_twice\n",
    "def greet_me(name):\n",
    "    print(f'Hi {name}, happy to meet you today')\n",
    "\n",
    "@do_twice\n",
    "def say_location(name, location):\n",
    "    print(f'Hi {name}, you live in {location}')\n",
    "    \n",
    "greet_me('Bemsi')\n",
    "say_location('Joel', location = 'Leeds')"
   ]
  },
  {
   "cell_type": "markdown",
   "id": "cb48b8b9",
   "metadata": {},
   "source": [
    "We can also implement a decorator that takes in an argument. For example, with the `@do_twice` decorator, we might want to change it to `do_n_times`, and then pass in the number of times we want the inner function to run as an argument. "
   ]
  },
  {
   "cell_type": "code",
   "execution_count": null,
   "id": "ff56f077",
   "metadata": {},
   "outputs": [],
   "source": [
    "def do_n_times(n_times=2):\n",
    "    def wrapper(func):\n",
    "        def inner(*args, **kwargs):\n",
    "            for i in range(n_times):\n",
    "                func(*args, **kwargs)\n",
    "        return inner\n",
    "    return wrapper\n",
    "\n",
    "@do_n_times(5)\n",
    "def greet_me(name):\n",
    "    print(f'Hi {name}, happy to meet you today')\n",
    "    \n",
    "greet_me('Bemsi')"
   ]
  },
  {
   "cell_type": "markdown",
   "id": "ff2ff352",
   "metadata": {},
   "source": [
    "To understand what is going on, we look at the decorator from the innermost function, `inner`. It takes arbitrary arguments and returns the value of the decorated function, `func`, but also does this `n` times. The `n_times` argument is seemingly not used in the `wrapper` function, but creates a closure so that the value of `n_times` is stored until it will be used by the `inner` function."
   ]
  },
  {
   "cell_type": "code",
   "execution_count": null,
   "id": "d804df73",
   "metadata": {},
   "outputs": [],
   "source": [
    "@do_n_times()\n",
    "def say_location(name, location):\n",
    "    print(f'Hi {name}, you live in {location}')\n",
    "    \n",
    "say_location('Bemsi', 'Cambridge')"
   ]
  },
  {
   "cell_type": "markdown",
   "id": "80620a73",
   "metadata": {},
   "source": [
    "Pay attention to the fact that we used brackets in the decorator here - that's because the `do_n_times` now takes an argument. We used decorators without brackets previously because the decorators didn't take any arguments"
   ]
  },
  {
   "cell_type": "markdown",
   "id": "39b89829",
   "metadata": {},
   "source": [
    "# 2. Some use cases for decorators\n",
    "Anytime you want to extend the functionality of function. By using decorators, you can easily generate different permutations of functionality that you want instead of creating a large number of objects -making your code complex and bloated. For example analytics, logging, validation, runtime checks, etc. We will look at a few examples"
   ]
  },
  {
   "cell_type": "markdown",
   "id": "5daa8fd9",
   "metadata": {},
   "source": [
    "## 2.1 Analytics and logging\n",
    "Logging is an important part of software engineering. In python, decorators can enable us log quite easily"
   ]
  },
  {
   "cell_type": "code",
   "execution_count": null,
   "id": "282b3e41",
   "metadata": {},
   "outputs": [],
   "source": [
    "from datetime import datetime\n",
    "import logging\n",
    "\n",
    "def log_datetime(func):\n",
    "    '''Log the date and time of a function'''\n",
    "\n",
    "    def wrapper(*arg):\n",
    "        print(f'Function: {func.__name__}\\nRun on: {datetime.today().strftime(\"%Y-%m-%d %H:%M:%S\")}')\n",
    "        print(f'{\"-\"*30}')\n",
    "        func(*arg)\n",
    "    return wrapper\n",
    "\n",
    "def time_dec(func):\n",
    "    def wrapper(*arg):\n",
    "        t = time.time()\n",
    "        res = func(*arg)\n",
    "        print(f\"{func.__name__} took {time.time()-t} to complete\")\n",
    "        return res\n",
    "    return wrapper\n",
    "\n",
    "@log_datetime\n",
    "@time_dec\n",
    "def multiply(a,b):\n",
    "    return a*b"
   ]
  },
  {
   "cell_type": "code",
   "execution_count": null,
   "id": "e10f9a27",
   "metadata": {},
   "outputs": [],
   "source": [
    "multiply(5,6)"
   ]
  },
  {
   "cell_type": "markdown",
   "id": "ea06e173",
   "metadata": {},
   "source": [
    "We see two things in the above example:\n",
    "    \n",
    "- We can chain decorators together. We chained `log_datetime` and `time_dec` together, and saw what the result is.\n",
    "- The `log_datetime` function name got lost in the first decorator, and we instead saw `wrapper` as the function name. This can pose problems when debugging decorated functions. As we have seen so far in this tutorial, decorators wrap functions. The original function name, its docstring and parameter list are all hidden by the wrapper closure. In `multiply` above for example, we see the `wrapper` closure's metadata, and this can be a problem when debugging. \n",
    "\n",
    "To solve this issues, we use the `functools.wraps` decorator in the standard Python library. This decorator copies the metadata from the undecorated function to the decorated closure. We see this in the next example:\n"
   ]
  },
  {
   "cell_type": "code",
   "execution_count": null,
   "id": "ebbfe540",
   "metadata": {},
   "outputs": [],
   "source": [
    "from functools import wraps\n",
    "\n",
    "def log_datetime(func):\n",
    "    '''Log the date and time of a function'''\n",
    "    \n",
    "    @wraps(func)\n",
    "    def wrapper(*arg):\n",
    "        print(f'Function: {func.__name__}\\nRun on: {datetime.today().strftime(\"%Y-%m-%d %H:%M:%S\")}')\n",
    "        print(f'{\"-\"*30}')\n",
    "        func(*arg)\n",
    "    return wrapper\n",
    "\n",
    "def time_dec(func):\n",
    "    @wraps(func)\n",
    "    def wrapper(*arg):\n",
    "        t = time.time()\n",
    "        res = func(*arg)\n",
    "        print(f\"{func.__name__} took {time.time()-t}s to complete\")\n",
    "        return res\n",
    "    return wrapper"
   ]
  },
  {
   "cell_type": "code",
   "execution_count": null,
   "id": "fe2aa17b",
   "metadata": {},
   "outputs": [],
   "source": [
    "@log_datetime\n",
    "@time_dec\n",
    "def multiply(a,b):\n",
    "    return a*b"
   ]
  },
  {
   "cell_type": "code",
   "execution_count": null,
   "id": "fbcbd2e5",
   "metadata": {},
   "outputs": [],
   "source": [
    "multiply(5,6)"
   ]
  },
  {
   "cell_type": "markdown",
   "id": "615eabe9",
   "metadata": {},
   "source": [
    "We now see appropriate closures. This logic can be used to measure other aspects of the performance of a function - speed, memory usage, etc."
   ]
  },
  {
   "cell_type": "markdown",
   "id": "db920399",
   "metadata": {},
   "source": [
    "## 2.2 Validation \n",
    "Imagine that we have a set of functions whose arguments must be positive. If any argument is negative, that’s an error. Here is a decorator that raises a `ValueError` if that happens:"
   ]
  },
  {
   "cell_type": "code",
   "execution_count": null,
   "id": "5f87dc79",
   "metadata": {},
   "outputs": [],
   "source": [
    "from functools import wraps\n",
    "import math\n",
    "\n",
    "def check_positive(func):\n",
    "    @wraps(func)\n",
    "    def wrapper(*args, **kwargs):\n",
    "        if any([arg <0 for arg in args]):\n",
    "            raise ValueError(f\"{func.__name__} accepts only positive arguments. Please check your inputs.\")\n",
    "        res = func(*args, **kwargs)\n",
    "        return res\n",
    "    return wrapper\n",
    "\n",
    "@check_positive\n",
    "def geometric_average(a,b):\n",
    "    return math.sqrt(a*b)\n",
    "\n",
    "@check_positive\n",
    "def arithmetic_average(a,b):\n",
    "    return (a+b)/2\n",
    "\n",
    "@check_positive\n",
    "def logarithm(a, b):\n",
    "    return math.log(a) - math.log(b)\n",
    "\n",
    "print(logarithm(5,6))\n",
    "print(arithmetic_average(5,2))\n",
    "print(geometric_average(5,-6))\n"
   ]
  },
  {
   "cell_type": "markdown",
   "id": "82ea0ec5",
   "metadata": {},
   "source": [
    "The above code would be easier to write and maintain than writing:"
   ]
  },
  {
   "cell_type": "code",
   "execution_count": null,
   "id": "29ce2364",
   "metadata": {},
   "outputs": [],
   "source": [
    "def geometric_average(x,y):\n",
    "    if x <0 or y <0:\n",
    "        raise ValueError(f\"All arguments must be positive for function geometric average to work\")\n",
    "    return math.sqrt(a*b)\n",
    "    \n",
    "def arithmetic_average(x,y):\n",
    "    if x <0 or y <0:\n",
    "        raise ValueError(f\"All arguments must be positive for function geometric average to work\")\n",
    "    return (a+b)/2\n",
    "\n",
    "def logarithm(x,y):\n",
    "    if x <0 or y <0:\n",
    "        raise ValueError(f\"All arguments must be positive for function geometric average to work\")\n",
    "    return math.log(y) - math.log(x)"
   ]
  },
  {
   "cell_type": "markdown",
   "id": "b81b4c67",
   "metadata": {},
   "source": [
    "In general it would be better to have:\n",
    "```@conditional_function \n",
    "def fun(): \n",
    "...\n",
    "```\n",
    "than multiple instances of \n",
    "```\n",
    "def fun():   \n",
    "    if conditional_function ...\n",
    "```\n"
   ]
  },
  {
   "cell_type": "markdown",
   "id": "a945763a",
   "metadata": {},
   "source": [
    "## 2.3 Decorators with classes\n",
    "You can decorate the methods of a class (you are probably already doing so). The most commonly used decorators here are `@classmethod`, `@staticmethod` and `@property`. The `@classmethod` and `@staticmethod` decorators are used to define methods inside a class namespace that are not connected to a particular instance of that class. The `@property` decorator is used to customize getters and setters for class attributes. "
   ]
  },
  {
   "cell_type": "code",
   "execution_count": null,
   "id": "78f9f8f6",
   "metadata": {},
   "outputs": [],
   "source": [
    "class Rectangle:\n",
    "    def __init__(self, length, width):\n",
    "        self._length = length\n",
    "        self._width = width\n",
    "    \n",
    "    @property\n",
    "    def length(self):\n",
    "        return self._length\n",
    "    \n",
    "    @length.setter\n",
    "    def length(self, value):\n",
    "        if value >= 0:\n",
    "            self._length = value\n",
    "        else:\n",
    "            raise ValueError(\"Length must be positive\")\n",
    "    \n",
    "    @property\n",
    "    def area(self):\n",
    "        return self._length * self._width\n",
    "    \n",
    "    @classmethod\n",
    "    def square(cls, length):\n",
    "        return cls(_length, _length)\n",
    "    \n",
    "    @staticmethod\n",
    "    def e():\n",
    "        return 2.712"
   ]
  },
  {
   "cell_type": "code",
   "execution_count": null,
   "id": "7609865f",
   "metadata": {},
   "outputs": [],
   "source": [
    "r = Rectangle(5,2)"
   ]
  },
  {
   "cell_type": "code",
   "execution_count": null,
   "id": "6b68ba04",
   "metadata": {},
   "outputs": [],
   "source": [
    "s = Rectangle.square(5)\n",
    "print(f's is a square with length {s._length} and width {s._width}, and its area is {s.area}')"
   ]
  },
  {
   "cell_type": "code",
   "execution_count": null,
   "id": "a8d68e79",
   "metadata": {},
   "outputs": [],
   "source": [
    "print(Rectangle.e())"
   ]
  },
  {
   "cell_type": "markdown",
   "id": "91601680",
   "metadata": {},
   "source": [
    "In the `Rectangle` class:\n",
    " - `length` is a mutable property - it can be set to a different value. When we define a setter method, we can do some validation to make sure that the right values are passed onto it\n",
    " - `.area` is an immutable property - properties without `.setter()` methods cannot be changed\n",
    " - `.square` is a class method - it is not bound to one particular instance of `Rectangle`\n",
    " - `.e()` is a static method. It doesn't really dependent on the `Rectangle` class, except for being a part of its namespace"
   ]
  },
  {
   "cell_type": "markdown",
   "id": "877a7b95",
   "metadata": {},
   "source": [
    "We can also decorate entire classes in the same fashion as we decorated functions - that is, decorating the entire class. A good example of this is the [dataclass](https://docs.python.org/3/library/dataclasses.html) module."
   ]
  },
  {
   "cell_type": "code",
   "execution_count": null,
   "id": "b075da97",
   "metadata": {},
   "outputs": [],
   "source": [
    "from dataclasses import dataclass\n",
    "\n",
    "@dataclass\n",
    "class Rectangle:\n",
    "    length: float\n",
    "    width: float\n",
    "    \n",
    "    @property\n",
    "    def area(self) -> float:\n",
    "        return self.length * self.width\n",
    "    \n",
    "r = Rectangle(5.4, 3.6)\n",
    "print(r.area)"
   ]
  },
  {
   "cell_type": "markdown",
   "id": "9a83e9f0",
   "metadata": {},
   "source": [
    "## 2.4 Retry decorators\n",
    "Sometimes you have a function and want to be able to catch if a particular call gets raised when it's run. For example, you are making requests to a server, and sometimes you get a server error - you need to retry that request. Imagine further that you have many of such functions making such calls - you may end up having boilerplate code. But you can use a decorator for this"
   ]
  },
  {
   "cell_type": "code",
   "execution_count": null,
   "id": "f0f2a7f1",
   "metadata": {},
   "outputs": [],
   "source": [
    "def retry(func):\n",
    "    @wraps(func)\n",
    "    def retried_func(*args, **kwargs):\n",
    "        MAX_TRIES = 5\n",
    "        tries = 0\n",
    "        while True:\n",
    "            resp = func(*args, **kwargs)\n",
    "            if resp.status_code == 500 and tries < MAX_TRIES:\n",
    "                tries += 1\n",
    "                continue\n",
    "            break\n",
    "        return resp\n",
    "    return retried_func\n",
    "\n",
    "@retry\n",
    "def make_api_call():\n",
    "    pass"
   ]
  },
  {
   "cell_type": "markdown",
   "id": "18e312dd",
   "metadata": {},
   "source": [
    "You may have noticed that we can refactor the above code so that we can pass in the `max_tries` as an argument to the `retry` decorator."
   ]
  },
  {
   "cell_type": "code",
   "execution_count": null,
   "id": "89bbb0b1",
   "metadata": {},
   "outputs": [],
   "source": [
    "def retry(max_tries=3):\n",
    "    @wraps(func)\n",
    "    def retry_decorator(func):\n",
    "        def retried_func(*args, **kwargs):\n",
    "            tries = 0\n",
    "            while True:\n",
    "                resp = func(*args, **kwargs)\n",
    "                if resp.status_code == 500 and tries < max_tries:\n",
    "                    tries += 1\n",
    "                    continue\n",
    "                break\n",
    "            return resp\n",
    "        return retried_func\n",
    "    return retry_decorator\n",
    "\n",
    "@retry(5)\n",
    "def make_api_call():\n",
    "    pass"
   ]
  },
  {
   "cell_type": "markdown",
   "id": "3ef61073",
   "metadata": {},
   "source": [
    "# Learn more:\n",
    "\n",
    "You can read more about decorators here:\n",
    " - [Real Python's Primer on decorators](https://realpython.com/instance-class-and-static-methods-demystified/)\n",
    " - [O Reilly - 5 reasons you need to learn to write Python decorators](https://www.oreilly.com/content/5-reasons-you-need-to-learn-to-write-python-decorators/)\n",
    " - [FreeCodeCamp - Python Decorators](https://www.freecodecamp.org/news/python-decorators-explained-with-examples/)"
   ]
  },
  {
   "cell_type": "markdown",
   "id": "e7f397cc",
   "metadata": {},
   "source": [
    "\n",
    "---\n",
    "\n",
    "***This is a living document, so feel free to suggest any modifications!***"
   ]
  }
 ],
 "metadata": {
  "kernelspec": {
   "display_name": "Python 3 (ipykernel)",
   "language": "python",
   "name": "python3"
  },
  "language_info": {
   "codemirror_mode": {
    "name": "ipython",
    "version": 3
   },
   "file_extension": ".py",
   "mimetype": "text/x-python",
   "name": "python",
   "nbconvert_exporter": "python",
   "pygments_lexer": "ipython3",
   "version": "3.9.7"
  }
 },
 "nbformat": 4,
 "nbformat_minor": 5
}
